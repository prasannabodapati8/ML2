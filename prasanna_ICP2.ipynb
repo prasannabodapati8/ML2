{
  "nbformat": 4,
  "nbformat_minor": 0,
  "metadata": {
    "colab": {
      "provenance": []
    },
    "kernelspec": {
      "name": "python3",
      "display_name": "Python 3"
    },
    "language_info": {
      "name": "python"
    }
  },
  "cells": [
    {
      "cell_type": "code",
      "execution_count": 18,
      "metadata": {
        "colab": {
          "base_uri": "https://localhost:8080/"
        },
        "id": "FuzE6uJWc8r8",
        "outputId": "5f78736a-1459-437f-a8c4-fd1dc47254bf"
      },
      "outputs": [
        {
          "output_type": "stream",
          "name": "stdout",
          "text": [
            "* \n",
            "* * \n",
            "* * * \n",
            "* * * * \n",
            "* * * * * \n",
            "* * * * * * \n",
            "* * * * * \n",
            "* * * * \n",
            "* * * \n",
            "* * \n",
            "* \n"
          ]
        }
      ],
      "source": [
        "# Number of rows for the pattern\n",
        "rows = 6\n",
        "\n",
        "# Loop to print the upper part of the pattern\n",
        "for i in range(rows):\n",
        "    for j in range(i + 1):\n",
        "        print(\"*\", end=\" \")\n",
        "    print()\n",
        "\n",
        "# Loop to print the lower part of the pattern\n",
        "for i in range(rows - 1, 0, -1):\n",
        "    for j in range(i):\n",
        "        print(\"*\", end=\" \")\n",
        "    print()"
      ]
    },
    {
      "cell_type": "code",
      "source": [
        "my_list = [10, 20, 30, 40, 50, 60, 70, 80, 90, 100]\n",
        "\n",
        "# Loop through the list and print elements at odd indexes\n",
        "for i in range(len(my_list)):\n",
        "    if i % 2 != 0:\n",
        "        print(my_list[i])"
      ],
      "metadata": {
        "colab": {
          "base_uri": "https://localhost:8080/"
        },
        "id": "RRDff2FKdKe3",
        "outputId": "ddad82d6-0cf5-473a-e8c5-f2e44a9e1ba4"
      },
      "execution_count": 19,
      "outputs": [
        {
          "output_type": "stream",
          "name": "stdout",
          "text": [
            "20\n",
            "40\n",
            "60\n",
            "80\n",
            "100\n"
          ]
        }
      ]
    },
    {
      "cell_type": "code",
      "source": [
        " x = [23, 'Python', 23.98]\n",
        "\n",
        "# Create an empty list to store the results\n",
        "result = []\n",
        "\n",
        "# Append the elements from the original list\n",
        "for item in x:\n",
        "    result.append(item)\n",
        "\n",
        "# Append the data types of each element\n",
        "for item in x:\n",
        "    result.append(type(item))\n",
        "\n",
        "print(result)"
      ],
      "metadata": {
        "colab": {
          "base_uri": "https://localhost:8080/"
        },
        "id": "WW5B_-c6eCjt",
        "outputId": "e4c60e2c-1769-40db-fe54-206192d24544"
      },
      "execution_count": 20,
      "outputs": [
        {
          "output_type": "stream",
          "name": "stdout",
          "text": [
            "[23, 'Python', 23.98, <class 'int'>, <class 'str'>, <class 'float'>]\n"
          ]
        }
      ]
    },
    {
      "cell_type": "code",
      "source": [
        "def unique_list(input_list):\n",
        "    return list(set(input_list))\n",
        "\n",
        "sample_list = [1, 2, 3, 3, 3, 3, 4, 5]\n",
        "unique_list_result = unique_list(sample_list)\n",
        "print(unique_list_result)\n"
      ],
      "metadata": {
        "colab": {
          "base_uri": "https://localhost:8080/"
        },
        "id": "8dvswFZreRzh",
        "outputId": "98823b9b-0d59-445b-d874-47881e63c30a"
      },
      "execution_count": 21,
      "outputs": [
        {
          "output_type": "stream",
          "name": "stdout",
          "text": [
            "[1, 2, 3, 4, 5]\n"
          ]
        }
      ]
    },
    {
      "cell_type": "code",
      "source": [
        "def count_upper_lower(string):\n",
        "    upper_count = sum(1 for char in string if char.isupper())\n",
        "    lower_count = sum(1 for char in string if char.islower())\n",
        "    return upper_count, lower_count\n",
        "\n",
        "input_string = 'The quick Brow Fox'\n",
        "upper, lower = count_upper_lower(input_string)\n",
        "\n",
        "print(\"No. of Upper-case characters:\", upper)\n",
        "print(\"No. of Lower-case Characters:\", lower)\n"
      ],
      "metadata": {
        "colab": {
          "base_uri": "https://localhost:8080/"
        },
        "id": "uxB0BYBAqDH1",
        "outputId": "ddaedd78-6a78-4ba0-ea2e-0a1cff530a82"
      },
      "execution_count": 22,
      "outputs": [
        {
          "output_type": "stream",
          "name": "stdout",
          "text": [
            "No. of Upper-case characters: 3\n",
            "No. of Lower-case Characters: 12\n"
          ]
        }
      ]
    }
  ]
}